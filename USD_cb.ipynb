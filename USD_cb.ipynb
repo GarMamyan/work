{
 "cells": [
  {
   "cell_type": "code",
   "execution_count": 1,
   "metadata": {},
   "outputs": [
    {
     "name": "stdout",
     "output_type": "stream",
     "text": [
      "           date  usd_to_rub\n",
      "0    2019-01-01         NaN\n",
      "1    2019-01-02         NaN\n",
      "2    2019-01-03         NaN\n",
      "3    2019-01-04         NaN\n",
      "4    2019-01-05         NaN\n",
      "...         ...         ...\n",
      "2341 2025-05-30     78.4970\n",
      "2342 2025-05-31     78.6171\n",
      "2343 2025-06-01     78.6171\n",
      "2344 2025-06-02     78.6171\n",
      "2345 2025-06-03     79.1285\n",
      "\n",
      "[2346 rows x 2 columns]\n"
     ]
    }
   ],
   "source": [
    "import pandas as pd\n",
    "import requests\n",
    "from datetime import datetime\n",
    "\n",
    "def get_usd_rub_rates(start_date=\"2019-01-01\"):\n",
    "    # Преобразуем даты в формат, нужный для API\n",
    "    today = datetime.today()\n",
    "    end_date = today.strftime(\"%d/%m/%Y\")\n",
    "    start_date_fmt = datetime.strptime(start_date, \"%Y-%m-%d\").strftime(\"%d/%m/%Y\")\n",
    "\n",
    "    url = f\"https://www.cbr.ru/scripts/XML_dynamic.asp?date_req1={start_date_fmt}&date_req2={end_date}&VAL_NM_RQ=R01235\"\n",
    "    \n",
    "    response = requests.get(url)\n",
    "    response.encoding = 'windows-1251'  # ЦБ РФ использует windows-1251\n",
    "\n",
    "\n",
    "\n",
    "    # Проверка статуса ответа\n",
    "    if response.status_code != 200:\n",
    "        raise Exception(\"Не удалось получить данные от ЦБ РФ\")\n",
    "    \n",
    "    # Парсим XML\n",
    "    from xml.etree import ElementTree as ET\n",
    "    root = ET.fromstring(response.text)\n",
    "\n",
    "    records = []\n",
    "    for record in root.findall(\"Record\"):\n",
    "        date = datetime.strptime(record.attrib[\"Date\"], \"%d.%m.%Y\")\n",
    "        value = float(record.find(\"Value\").text.replace(\",\", \".\"))\n",
    "        records.append((date, value))\n",
    "\n",
    "    df = pd.DataFrame(records, columns=[\"date\", \"usd_to_rub\"])\n",
    "    df.sort_values(\"date\", inplace=True)\n",
    "    df.set_index(\"date\", inplace=True)\n",
    "\n",
    "    # Создаем полный диапазон дат\n",
    "    full_range = pd.date_range(start=start_date, end=today)\n",
    "    df = df.reindex(full_range)\n",
    "\n",
    "    # Заполняем пропуски предыдущими значениями\n",
    "    df.ffill(inplace=True)\n",
    "\n",
    "    # Переименовываем индекс обратно в колонку\n",
    "    df.reset_index(inplace=True)\n",
    "    df.rename(columns={\"index\": \"date\"}, inplace=True)\n",
    "\n",
    "    return df\n",
    "\n",
    "# Пример использования:\n",
    "df = get_usd_rub_rates()\n",
    "print(df)"
   ]
  }
 ],
 "metadata": {
  "kernelspec": {
   "display_name": "base",
   "language": "python",
   "name": "python3"
  },
  "language_info": {
   "codemirror_mode": {
    "name": "ipython",
    "version": 3
   },
   "file_extension": ".py",
   "mimetype": "text/x-python",
   "name": "python",
   "nbconvert_exporter": "python",
   "pygments_lexer": "ipython3",
   "version": "3.11.4"
  }
 },
 "nbformat": 4,
 "nbformat_minor": 2
}
