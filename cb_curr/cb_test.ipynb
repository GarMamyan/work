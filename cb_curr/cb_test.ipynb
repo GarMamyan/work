{
 "cells": [
  {
   "cell_type": "code",
   "execution_count": 7,
   "metadata": {},
   "outputs": [
    {
     "name": "stdout",
     "output_type": "stream",
     "text": [
      "<?xml version=\"1.0\" encoding=\"windows-1251\"?><ValCurs ID=\"R01235\" DateRange1=\"26.12.2024\" DateRange2=\"06.06.2025\" name=\"Foreign Currency Market Dynamic\"><Record Date=\"26.12.2024\" Id=\"R01235\"><Nominal>1</Nominal><Value>99,6125</Value><VunitRate>99,6125</VunitRate></Record><Record Date=\"27.12.2024\" Id=\"R01235\"><Nominal>1</Nominal><Value>99,2295</Value><VunitRate>99,2295</VunitRate></Record><Record Date=\"28.12.2024\" Id=\"R01235\"><Nominal>1</Nominal><Value>100,5281</Value><VunitRate>100,5281</VunitRate></Record><Record Date=\"29.12.2024\" Id=\"R01235\"><Nominal>1</Nominal><Value>101,6797</Value><VunitRate>101,6797</VunitRate></Record><Record Date=\"10.01.2025\" Id=\"R01235\"><Nominal>1</Nominal><Value>102,2911</Value><VunitRate>102,2911</VunitRate></Record><Record Date=\"11.01.2025\" Id=\"R01235\"><Nominal>1</Nominal><Value>101,9146</Value><VunitRate>101,9146</VunitRate></Record><Record Date=\"14.01.2025\" Id=\"R01235\"><Nominal>1</Nominal><Value>102,7081</Value><VunitRate>102,7081</VunitRate></Record><Record Date=\"15.01.2025\" Id=\"R01235\"><Nominal>1</Nominal><Value>103,4380</Value><VunitRate>103,438</VunitRate></Record><Record Date=\"16.01.2025\" Id=\"R01235\"><Nominal>1</Nominal><Value>102,8078</Value><VunitRate>102,8078</VunitRate></Record><Record Date=\"17.01.2025\" Id=\"R01235\"><Nominal>1</Nominal><Value>102,3762</Value><VunitRate>102,3762</VunitRate></Record><Record Date=\"18.01.2025\" Id=\"R01235\"><Nominal>1</Nominal><Value>102,4137</Value><VunitRate>102,4137</VunitRate></Record><Record Date=\"21.01.2025\" Id=\"R01235\"><Nominal>1</Nominal><Value>101,9579</Value><VunitRate>101,9579</VunitRate></Record><Record Date=\"22.01.2025\" Id=\"R01235\"><Nominal>1</Nominal><Value>99,9282</Value><VunitRate>99,9282</VunitRate></Record><Record Date=\"23.01.2025\" Id=\"R01235\"><Nominal>1</Nominal><Value>98,2804</Value><VunitRate>98,2804</VunitRate></Record><Record Date=\"24.01.2025\" Id=\"R01235\"><Nominal>1</Nominal><Value>99,0978</Value><VunitRate>99,0978</VunitRate></Record><Record Date=\"25.01.2025\" Id=\"R01235\"><Nominal>1</Nominal><Value>98,2636</Value><VunitRate>98,2636</VunitRate></Record><Record Date=\"28.01.2025\" Id=\"R01235\"><Nominal>1</Nominal><Value>97,1320</Value><VunitRate>97,132</VunitRate></Record><Record Date=\"29.01.2025\" Id=\"R01235\"><Nominal>1</Nominal><Value>97,9658</Value><VunitRate>97,9658</VunitRate></Record><Record Date=\"30.01.2025\" Id=\"R01235\"><Nominal>1</Nominal><Value>98,0126</Value><VunitRate>98,0126</VunitRate></Record><Record Date=\"31.01.2025\" Id=\"R01235\"><Nominal>1</Nominal><Value>98,0062</Value><VunitRate>98,0062</VunitRate></Record><Record Date=\"01.02.2025\" Id=\"R01235\"><Nominal>1</Nominal><Value>97,8107</Value><VunitRate>97,8107</VunitRate></Record><Record Date=\"04.02.2025\" Id=\"R01235\"><Nominal>1</Nominal><Value>99,9433</Value><VunitRate>99,9433</VunitRate></Record><Record Date=\"05.02.2025\" Id=\"R01235\"><Nominal>1</Nominal><Value>98,5336</Value><VunitRate>98,5336</VunitRate></Record><Record Date=\"06.02.2025\" Id=\"R01235\"><Nominal>1</Nominal><Value>98,0556</Value><VunitRate>98,0556</VunitRate></Record><Record Date=\"07.02.2025\" Id=\"R01235\"><Nominal>1</Nominal><Value>96,9104</Value><VunitRate>96,9104</VunitRate></Record><Record Date=\"08.02.2025\" Id=\"R01235\"><Nominal>1</Nominal><Value>97,2762</Value><VunitRate>97,2762</VunitRate></Record><Record Date=\"11.02.2025\" Id=\"R01235\"><Nominal>1</Nominal><Value>96,7821</Value><VunitRate>96,7821</VunitRate></Record><Record Date=\"12.02.2025\" Id=\"R01235\"><Nominal>1</Nominal><Value>95,8024</Value><VunitRate>95,8024</VunitRate></Record><Record Date=\"13.02.2025\" Id=\"R01235\"><Nominal>1</Nominal><Value>94,0485</Value><VunitRate>94,0485</VunitRate></Record><Record Date=\"14.02.2025\" Id=\"R01235\"><Nominal>1</Nominal><Value>91,0313</Value><VunitRate>91,0313</VunitRate></Record><Record Date=\"15.02.2025\" Id=\"R01235\"><Nominal>1</Nominal><Value>90,3099</Value><VunitRate>90,3099</VunitRate></Record><Record Date=\"18.02.2025\" Id=\"R01235\"><Nominal>1</Nominal><Value>91,4347</Value><VunitRate>91,4347</VunitRate></Record><Record Date=\"19.02.2025\" Id=\"R01235\"><Nominal>1</Nominal><Value>91,3398</Value><VunitRate>91,3398</VunitRate></Record><Record Date=\"20.02.2025\" Id=\"R01235\"><Nominal>1</Nominal><Value>90,4268</Value><VunitRate>90,4268</VunitRate></Record><Record Date=\"21.02.2025\" Id=\"R01235\"><Nominal>1</Nominal><Value>88,5103</Value><VunitRate>88,5103</VunitRate></Record><Record Date=\"22.02.2025\" Id=\"R01235\"><Nominal>1</Nominal><Value>88,1676</Value><VunitRate>88,1676</VunitRate></Record><Record Date=\"25.02.2025\" Id=\"R01235\"><Nominal>1</Nominal><Value>88,2065</Value><VunitRate>88,2065</VunitRate></Record><Record Date=\"26.02.2025\" Id=\"R01235\"><Nominal>1</Nominal><Value>86,6318</Value><VunitRate>86,6318</VunitRate></Record><Record Date=\"27.02.2025\" Id=\"R01235\"><Nominal>1</Nominal><Value>85,9279</Value><VunitRate>85,9279</VunitRate></Record><Record Date=\"28.02.2025\" Id=\"R01235\"><Nominal>1</Nominal><Value>87,6967</Value><VunitRate>87,6967</VunitRate></Record><Record Date=\"01.03.2025\" Id=\"R01235\"><Nominal>1</Nominal><Value>88,2568</Value><VunitRate>88,2568</VunitRate></Record><Record Date=\"04.03.2025\" Id=\"R01235\"><Nominal>1</Nominal><Value>89,2497</Value><VunitRate>89,2497</VunitRate></Record><Record Date=\"05.03.2025\" Id=\"R01235\"><Nominal>1</Nominal><Value>89,2448</Value><VunitRate>89,2448</VunitRate></Record><Record Date=\"06.03.2025\" Id=\"R01235\"><Nominal>1</Nominal><Value>89,7878</Value><VunitRate>89,7878</VunitRate></Record><Record Date=\"07.03.2025\" Id=\"R01235\"><Nominal>1</Nominal><Value>89,5724</Value><VunitRate>89,5724</VunitRate></Record><Record Date=\"08.03.2025\" Id=\"R01235\"><Nominal>1</Nominal><Value>89,1362</Value><VunitRate>89,1362</VunitRate></Record><Record Date=\"11.03.2025\" Id=\"R01235\"><Nominal>1</Nominal><Value>88,3872</Value><VunitRate>88,3872</VunitRate></Record><Record Date=\"12.03.2025\" Id=\"R01235\"><Nominal>1</Nominal><Value>86,5669</Value><VunitRate>86,5669</VunitRate></Record><Record Date=\"13.03.2025\" Id=\"R01235\"><Nominal>1</Nominal><Value>86,6204</Value><VunitRate>86,6204</VunitRate></Record><Record Date=\"14.03.2025\" Id=\"R01235\"><Nominal>1</Nominal><Value>86,6190</Value><VunitRate>86,619</VunitRate></Record><Record Date=\"15.03.2025\" Id=\"R01235\"><Nominal>1</Nominal><Value>85,5694</Value><VunitRate>85,5694</VunitRate></Record><Record Date=\"18.03.2025\" Id=\"R01235\"><Nominal>1</Nominal><Value>84,3059</Value><VunitRate>84,3059</VunitRate></Record><Record Date=\"19.03.2025\" Id=\"R01235\"><Nominal>1</Nominal><Value>81,5018</Value><VunitRate>81,5018</VunitRate></Record><Record Date=\"20.03.2025\" Id=\"R01235\"><Nominal>1</Nominal><Value>82,8487</Value><VunitRate>82,8487</VunitRate></Record><Record Date=\"21.03.2025\" Id=\"R01235\"><Nominal>1</Nominal><Value>84,3955</Value><VunitRate>84,3955</VunitRate></Record><Record Date=\"22.03.2025\" Id=\"R01235\"><Nominal>1</Nominal><Value>84,6400</Value><VunitRate>84,64</VunitRate></Record><Record Date=\"25.03.2025\" Id=\"R01235\"><Nominal>1</Nominal><Value>83,8737</Value><VunitRate>83,8737</VunitRate></Record><Record Date=\"26.03.2025\" Id=\"R01235\"><Nominal>1</Nominal><Value>84,1930</Value><VunitRate>84,193</VunitRate></Record><Record Date=\"27.03.2025\" Id=\"R01235\"><Nominal>1</Nominal><Value>84,2065</Value><VunitRate>84,2065</VunitRate></Record><Record Date=\"28.03.2025\" Id=\"R01235\"><Nominal>1</Nominal><Value>83,8347</Value><VunitRate>83,8347</VunitRate></Record><Record Date=\"29.03.2025\" Id=\"R01235\"><Nominal>1</Nominal><Value>83,6813</Value><VunitRate>83,6813</VunitRate></Record><Record Date=\"01.04.2025\" Id=\"R01235\"><Nominal>1</Nominal><Value>85,4963</Value><VunitRate>85,4963</VunitRate></Record><Record Date=\"02.04.2025\" Id=\"R01235\"><Nominal>1</Nominal><Value>84,8707</Value><VunitRate>84,8707</VunitRate></Record><Record Date=\"03.04.2025\" Id=\"R01235\"><Nominal>1</Nominal><Value>84,5522</Value><VunitRate>84,5522</VunitRate></Record><Record Date=\"04.04.2025\" Id=\"R01235\"><Nominal>1</Nominal><Value>84,3830</Value><VunitRate>84,383</VunitRate></Record><Record Date=\"05.04.2025\" Id=\"R01235\"><Nominal>1</Nominal><Value>84,2774</Value><VunitRate>84,2774</VunitRate></Record><Record Date=\"08.04.2025\" Id=\"R01235\"><Nominal>1</Nominal><Value>86,1891</Value><VunitRate>86,1891</VunitRate></Record><Record Date=\"09.04.2025\" Id=\"R01235\"><Nominal>1</Nominal><Value>85,4641</Value><VunitRate>85,4641</VunitRate></Record><Record Date=\"10.04.2025\" Id=\"R01235\"><Nominal>1</Nominal><Value>86,0923</Value><VunitRate>86,0923</VunitRate></Record><Record Date=\"11.04.2025\" Id=\"R01235\"><Nominal>1</Nominal><Value>85,0159</Value><VunitRate>85,0159</VunitRate></Record><Record Date=\"12.04.2025\" Id=\"R01235\"><Nominal>1</Nominal><Value>84,0040</Value><VunitRate>84,004</VunitRate></Record><Record Date=\"15.04.2025\" Id=\"R01235\"><Nominal>1</Nominal><Value>82,7671</Value><VunitRate>82,7671</VunitRate></Record><Record Date=\"16.04.2025\" Id=\"R01235\"><Nominal>1</Nominal><Value>82,3003</Value><VunitRate>82,3003</VunitRate></Record><Record Date=\"17.04.2025\" Id=\"R01235\"><Nominal>1</Nominal><Value>82,5892</Value><VunitRate>82,5892</VunitRate></Record><Record Date=\"18.04.2025\" Id=\"R01235\"><Nominal>1</Nominal><Value>82,0200</Value><VunitRate>82,02</VunitRate></Record><Record Date=\"19.04.2025\" Id=\"R01235\"><Nominal>1</Nominal><Value>81,1371</Value><VunitRate>81,1371</VunitRate></Record><Record Date=\"22.04.2025\" Id=\"R01235\"><Nominal>1</Nominal><Value>80,7597</Value><VunitRate>80,7597</VunitRate></Record><Record Date=\"23.04.2025\" Id=\"R01235\"><Nominal>1</Nominal><Value>81,4620</Value><VunitRate>81,462</VunitRate></Record><Record Date=\"24.04.2025\" Id=\"R01235\"><Nominal>1</Nominal><Value>82,3637</Value><VunitRate>82,3637</VunitRate></Record><Record Date=\"25.04.2025\" Id=\"R01235\"><Nominal>1</Nominal><Value>82,8559</Value><VunitRate>82,8559</VunitRate></Record><Record Date=\"26.04.2025\" Id=\"R01235\"><Nominal>1</Nominal><Value>82,6549</Value><VunitRate>82,6549</VunitRate></Record><Record Date=\"29.04.2025\" Id=\"R01235\"><Nominal>1</Nominal><Value>82,5467</Value><VunitRate>82,5467</VunitRate></Record><Record Date=\"30.04.2025\" Id=\"R01235\"><Nominal>1</Nominal><Value>81,5616</Value><VunitRate>81,5616</VunitRate></Record><Record Date=\"01.05.2025\" Id=\"R01235\"><Nominal>1</Nominal><Value>81,4933</Value><VunitRate>81,4933</VunitRate></Record><Record Date=\"06.05.2025\" Id=\"R01235\"><Nominal>1</Nominal><Value>81,9137</Value><VunitRate>81,9137</VunitRate></Record><Record Date=\"07.05.2025\" Id=\"R01235\"><Nominal>1</Nominal><Value>80,9644</Value><VunitRate>80,9644</VunitRate></Record><Record Date=\"08.05.2025\" Id=\"R01235\"><Nominal>1</Nominal><Value>80,8612</Value><VunitRate>80,8612</VunitRate></Record><Record Date=\"13.05.2025\" Id=\"R01235\"><Nominal>1</Nominal><Value>80,8883</Value><VunitRate>80,8883</VunitRate></Record><Record Date=\"14.05.2025\" Id=\"R01235\"><Nominal>1</Nominal><Value>80,5500</Value><VunitRate>80,55</VunitRate></Record><Record Date=\"15.05.2025\" Id=\"R01235\"><Nominal>1</Nominal><Value>80,2237</Value><VunitRate>80,2237</VunitRate></Record><Record Date=\"16.05.2025\" Id=\"R01235\"><Nominal>1</Nominal><Value>80,3134</Value><VunitRate>80,3134</VunitRate></Record><Record Date=\"17.05.2025\" Id=\"R01235\"><Nominal>1</Nominal><Value>80,7689</Value><VunitRate>80,7689</VunitRate></Record><Record Date=\"20.05.2025\" Id=\"R01235\"><Nominal>1</Nominal><Value>80,4137</Value><VunitRate>80,4137</VunitRate></Record><Record Date=\"21.05.2025\" Id=\"R01235\"><Nominal>1</Nominal><Value>80,3075</Value><VunitRate>80,3075</VunitRate></Record><Record Date=\"22.05.2025\" Id=\"R01235\"><Nominal>1</Nominal><Value>79,7530</Value><VunitRate>79,753</VunitRate></Record><Record Date=\"23.05.2025\" Id=\"R01235\"><Nominal>1</Nominal><Value>79,7357</Value><VunitRate>79,7357</VunitRate></Record><Record Date=\"24.05.2025\" Id=\"R01235\"><Nominal>1</Nominal><Value>79,7108</Value><VunitRate>79,7108</VunitRate></Record><Record Date=\"27.05.2025\" Id=\"R01235\"><Nominal>1</Nominal><Value>79,6588</Value><VunitRate>79,6588</VunitRate></Record><Record Date=\"28.05.2025\" Id=\"R01235\"><Nominal>1</Nominal><Value>79,6176</Value><VunitRate>79,6176</VunitRate></Record><Record Date=\"29.05.2025\" Id=\"R01235\"><Nominal>1</Nominal><Value>79,6037</Value><VunitRate>79,6037</VunitRate></Record><Record Date=\"30.05.2025\" Id=\"R01235\"><Nominal>1</Nominal><Value>78,4970</Value><VunitRate>78,497</VunitRate></Record><Record Date=\"31.05.2025\" Id=\"R01235\"><Nominal>1</Nominal><Value>78,6171</Value><VunitRate>78,6171</VunitRate></Record><Record Date=\"03.06.2025\" Id=\"R01235\"><Nominal>1</Nominal><Value>79,1285</Value><VunitRate>79,1285</VunitRate></Record><Record Date=\"04.06.2025\" Id=\"R01235\"><Nominal>1</Nominal><Value>78,8549</Value><VunitRate>78,8549</VunitRate></Record><Record Date=\"05.06.2025\" Id=\"R01235\"><Nominal>1</Nominal><Value>78,5025</Value><VunitRate>78,5025</VunitRate></Record><Record Date=\"06.06.2025\" Id=\"R01235\"><Nominal>1</Nominal><Value>79,1272</Value><VunitRate>79,1272</VunitRate></Record></ValCurs>\n"
     ]
    }
   ],
   "source": [
    "import requests\n",
    "from datetime import datetime\n",
    "from URL import settings\n",
    "\n",
    "\n",
    "start_date=\"2024-12-26\"\n",
    "today = datetime.today()\n",
    "end_date = today.strftime(\"%d/%m/%Y\")\n",
    "start_date_fmt = datetime.strptime(start_date, \"%Y-%m-%d\").strftime(\"%d/%m/%Y\")   \n",
    "\n",
    "\n",
    "\n",
    "\n",
    "def get_usd_cb(start_date_fmt,end_date):\n",
    "    response = requests.get(\n",
    "        settings.USD_CB.format(start_date_fmt=start_date_fmt, end_date = end_date)\n",
    "    )\n",
    "    return response\n",
    "\n",
    "req = get_usd_cb(start_date_fmt, end_date)\n",
    "print(req.text)\n"
   ]
  },
  {
   "cell_type": "code",
   "execution_count": 12,
   "metadata": {},
   "outputs": [
    {
     "name": "stdout",
     "output_type": "stream",
     "text": [
      "Вызван __init__ 42\n",
      "Вызван method_1, self.data = 43\n",
      "Вызван method_2, self.data = 44\n"
     ]
    }
   ],
   "source": [
    "class X:\n",
    "    def __init__(self):\n",
    "       \n",
    "        self.data = 42\n",
    "        print(\"Вызван __init__\" , self.data)\n",
    "    def method_1(self):\n",
    "        self.data = 43\n",
    "        print(\"Вызван method_1, self.data =\", self.data)\n",
    "\n",
    "    def method_2(self):\n",
    "        self.data = 44\n",
    "        print(\"Вызван method_2, self.data =\", self.data)\n",
    "\n",
    "obj = X()           # ← СРАБОТАЕТ __init__, выведет: Вызван __init__\n",
    "obj.method_1()      # ← СРАБОТАЕТ method_1, self тот же самый\n",
    "obj.method_2()      # ← СРАБОТАЕТ method_2, self всё тот же объект\n"
   ]
  }
 ],
 "metadata": {
  "kernelspec": {
   "display_name": "3.11",
   "language": "python",
   "name": "python3"
  },
  "language_info": {
   "codemirror_mode": {
    "name": "ipython",
    "version": 3
   },
   "file_extension": ".py",
   "mimetype": "text/x-python",
   "name": "python",
   "nbconvert_exporter": "python",
   "pygments_lexer": "ipython3",
   "version": "3.11.4"
  }
 },
 "nbformat": 4,
 "nbformat_minor": 2
}
